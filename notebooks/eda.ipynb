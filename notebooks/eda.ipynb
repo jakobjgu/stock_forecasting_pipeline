{
 "cells": [
  {
   "cell_type": "code",
   "execution_count": null,
   "id": "4a53c96a",
   "metadata": {},
   "outputs": [],
   "source": [
    "import sys\n",
    "import os\n",
    "\n",
    "# Add the project root to the Python path\n",
    "sys.path.append(os.path.abspath(\"..\"))\n",
    "\n",
    "from utils.fetch_economic_data import (\n",
    "    create_fred_client,\n",
    "    fetch_sp500,\n",
    "    fetch_nasdaq,\n",
    "    fetch_cpi,\n",
    "    fetch_summary\n",
    ")"
   ]
  },
  {
   "cell_type": "code",
   "execution_count": 5,
   "id": "6622f7ae",
   "metadata": {},
   "outputs": [
    {
     "name": "stdout",
     "output_type": "stream",
     "text": [
      "S&P 500 Summary:\n",
      "  start_date   end_date  num_points         mean          std      min  \\\n",
      "0 2015-05-14 2025-05-13        2609  3488.239662  1143.085243  1829.08   \n",
      "\n",
      "       max  \n",
      "0  6144.15  \n",
      "\n",
      "NASDAQ Summary:\n",
      "  start_date   end_date  num_points         mean          std    min       max\n",
      "0 1971-02-05 2025-05-12       14157  2903.692617  4126.234913  54.87  20173.89\n",
      "\n",
      "CPI Summary:\n",
      "  start_date   end_date  num_points        mean        std    min      max\n",
      "0 1947-01-01 2025-04-01         940  122.363206  87.862212  21.48  320.321\n"
     ]
    }
   ],
   "source": [
    "fred = create_fred_client()\n",
    "\n",
    "sp500 = fetch_sp500(fred)\n",
    "nasdaq = fetch_nasdaq(fred)\n",
    "cpi = fetch_cpi(fred)\n",
    "\n",
    "print(\"S&P 500 Summary:\")\n",
    "print(fetch_summary(sp500))\n",
    "\n",
    "print(\"\\nNASDAQ Summary:\")\n",
    "print(fetch_summary(nasdaq))\n",
    "\n",
    "print(\"\\nCPI Summary:\")\n",
    "print(fetch_summary(cpi))\n"
   ]
  }
 ],
 "metadata": {
  "kernelspec": {
   "display_name": ".econenv",
   "language": "python",
   "name": "python3"
  },
  "language_info": {
   "codemirror_mode": {
    "name": "ipython",
    "version": 3
   },
   "file_extension": ".py",
   "mimetype": "text/x-python",
   "name": "python",
   "nbconvert_exporter": "python",
   "pygments_lexer": "ipython3",
   "version": "3.13.1"
  }
 },
 "nbformat": 4,
 "nbformat_minor": 5
}
